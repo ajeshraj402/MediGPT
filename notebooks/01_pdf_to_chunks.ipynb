{
 "cells": [
  {
   "cell_type": "code",
   "execution_count": 3,
   "id": "1545d884",
   "metadata": {},
   "outputs": [
    {
     "name": "stdout",
     "output_type": "stream",
     "text": [
      "Collecting PyMuPDF\n",
      "  Downloading pymupdf-1.26.1-cp39-abi3-win_amd64.whl.metadata (3.4 kB)\n",
      "Requirement already satisfied: fitz in c:\\ajesh_drive\\personalprojects\\rag-medical-chatbot\\.venv\\lib\\site-packages (0.0.1.dev2)\n",
      "Requirement already satisfied: configobj in c:\\ajesh_drive\\personalprojects\\rag-medical-chatbot\\.venv\\lib\\site-packages (from fitz) (5.0.9)\n",
      "Requirement already satisfied: configparser in c:\\ajesh_drive\\personalprojects\\rag-medical-chatbot\\.venv\\lib\\site-packages (from fitz) (7.2.0)\n",
      "Requirement already satisfied: httplib2 in c:\\ajesh_drive\\personalprojects\\rag-medical-chatbot\\.venv\\lib\\site-packages (from fitz) (0.22.0)\n",
      "Requirement already satisfied: nibabel in c:\\ajesh_drive\\personalprojects\\rag-medical-chatbot\\.venv\\lib\\site-packages (from fitz) (5.3.2)\n",
      "Requirement already satisfied: nipype in c:\\ajesh_drive\\personalprojects\\rag-medical-chatbot\\.venv\\lib\\site-packages (from fitz) (1.10.0)\n",
      "Requirement already satisfied: numpy in c:\\ajesh_drive\\personalprojects\\rag-medical-chatbot\\.venv\\lib\\site-packages (from fitz) (2.3.0)\n",
      "Requirement already satisfied: pandas in c:\\ajesh_drive\\personalprojects\\rag-medical-chatbot\\.venv\\lib\\site-packages (from fitz) (2.3.0)\n",
      "Requirement already satisfied: pyxnat in c:\\ajesh_drive\\personalprojects\\rag-medical-chatbot\\.venv\\lib\\site-packages (from fitz) (1.6.3)\n",
      "Requirement already satisfied: scipy in c:\\ajesh_drive\\personalprojects\\rag-medical-chatbot\\.venv\\lib\\site-packages (from fitz) (1.15.3)\n",
      "Requirement already satisfied: pyparsing!=3.0.0,!=3.0.1,!=3.0.2,!=3.0.3,<4,>=2.4.2 in c:\\ajesh_drive\\personalprojects\\rag-medical-chatbot\\.venv\\lib\\site-packages (from httplib2->fitz) (3.2.3)\n",
      "Requirement already satisfied: packaging>=20 in c:\\ajesh_drive\\personalprojects\\rag-medical-chatbot\\.venv\\lib\\site-packages (from nibabel->fitz) (25.0)\n",
      "Requirement already satisfied: click>=6.6.0 in c:\\ajesh_drive\\personalprojects\\rag-medical-chatbot\\.venv\\lib\\site-packages (from nipype->fitz) (8.2.1)\n",
      "Requirement already satisfied: networkx>=2.5 in c:\\ajesh_drive\\personalprojects\\rag-medical-chatbot\\.venv\\lib\\site-packages (from nipype->fitz) (3.5)\n",
      "Requirement already satisfied: prov>=1.5.2 in c:\\ajesh_drive\\personalprojects\\rag-medical-chatbot\\.venv\\lib\\site-packages (from nipype->fitz) (2.0.2)\n",
      "Requirement already satisfied: pydot>=1.2.3 in c:\\ajesh_drive\\personalprojects\\rag-medical-chatbot\\.venv\\lib\\site-packages (from nipype->fitz) (4.0.0)\n",
      "Requirement already satisfied: python-dateutil>=2.2 in c:\\ajesh_drive\\personalprojects\\rag-medical-chatbot\\.venv\\lib\\site-packages (from nipype->fitz) (2.9.0.post0)\n",
      "Requirement already satisfied: rdflib>=5.0.0 in c:\\ajesh_drive\\personalprojects\\rag-medical-chatbot\\.venv\\lib\\site-packages (from nipype->fitz) (7.1.4)\n",
      "Requirement already satisfied: simplejson>=3.8.0 in c:\\ajesh_drive\\personalprojects\\rag-medical-chatbot\\.venv\\lib\\site-packages (from nipype->fitz) (3.20.1)\n",
      "Requirement already satisfied: traits>=6.2 in c:\\ajesh_drive\\personalprojects\\rag-medical-chatbot\\.venv\\lib\\site-packages (from nipype->fitz) (7.0.2)\n",
      "Requirement already satisfied: filelock>=3.0.0 in c:\\ajesh_drive\\personalprojects\\rag-medical-chatbot\\.venv\\lib\\site-packages (from nipype->fitz) (3.18.0)\n",
      "Requirement already satisfied: acres in c:\\ajesh_drive\\personalprojects\\rag-medical-chatbot\\.venv\\lib\\site-packages (from nipype->fitz) (0.5.0)\n",
      "Requirement already satisfied: etelemetry>=0.3.1 in c:\\ajesh_drive\\personalprojects\\rag-medical-chatbot\\.venv\\lib\\site-packages (from nipype->fitz) (0.3.1)\n",
      "Requirement already satisfied: looseversion!=1.2 in c:\\ajesh_drive\\personalprojects\\rag-medical-chatbot\\.venv\\lib\\site-packages (from nipype->fitz) (1.3.0)\n",
      "Requirement already satisfied: puremagic in c:\\ajesh_drive\\personalprojects\\rag-medical-chatbot\\.venv\\lib\\site-packages (from nipype->fitz) (1.29)\n",
      "Requirement already satisfied: colorama in c:\\ajesh_drive\\personalprojects\\rag-medical-chatbot\\.venv\\lib\\site-packages (from click>=6.6.0->nipype->fitz) (0.4.6)\n",
      "Requirement already satisfied: requests in c:\\ajesh_drive\\personalprojects\\rag-medical-chatbot\\.venv\\lib\\site-packages (from etelemetry>=0.3.1->nipype->fitz) (2.32.4)\n",
      "Requirement already satisfied: ci-info>=0.2 in c:\\ajesh_drive\\personalprojects\\rag-medical-chatbot\\.venv\\lib\\site-packages (from etelemetry>=0.3.1->nipype->fitz) (0.3.0)\n",
      "Requirement already satisfied: six>=1.5 in c:\\ajesh_drive\\personalprojects\\rag-medical-chatbot\\.venv\\lib\\site-packages (from python-dateutil>=2.2->nipype->fitz) (1.17.0)\n",
      "Requirement already satisfied: pytz>=2020.1 in c:\\ajesh_drive\\personalprojects\\rag-medical-chatbot\\.venv\\lib\\site-packages (from pandas->fitz) (2025.2)\n",
      "Requirement already satisfied: tzdata>=2022.7 in c:\\ajesh_drive\\personalprojects\\rag-medical-chatbot\\.venv\\lib\\site-packages (from pandas->fitz) (2025.2)\n",
      "Requirement already satisfied: lxml>=4.3 in c:\\ajesh_drive\\personalprojects\\rag-medical-chatbot\\.venv\\lib\\site-packages (from pyxnat->fitz) (5.4.0)\n",
      "Requirement already satisfied: pathlib>=1.0 in c:\\ajesh_drive\\personalprojects\\rag-medical-chatbot\\.venv\\lib\\site-packages (from pyxnat->fitz) (1.0.1)\n",
      "Requirement already satisfied: charset_normalizer<4,>=2 in c:\\ajesh_drive\\personalprojects\\rag-medical-chatbot\\.venv\\lib\\site-packages (from requests->etelemetry>=0.3.1->nipype->fitz) (3.4.2)\n",
      "Requirement already satisfied: idna<4,>=2.5 in c:\\ajesh_drive\\personalprojects\\rag-medical-chatbot\\.venv\\lib\\site-packages (from requests->etelemetry>=0.3.1->nipype->fitz) (3.10)\n",
      "Requirement already satisfied: urllib3<3,>=1.21.1 in c:\\ajesh_drive\\personalprojects\\rag-medical-chatbot\\.venv\\lib\\site-packages (from requests->etelemetry>=0.3.1->nipype->fitz) (2.4.0)\n",
      "Requirement already satisfied: certifi>=2017.4.17 in c:\\ajesh_drive\\personalprojects\\rag-medical-chatbot\\.venv\\lib\\site-packages (from requests->etelemetry>=0.3.1->nipype->fitz) (2025.6.15)\n",
      "Downloading pymupdf-1.26.1-cp39-abi3-win_amd64.whl (18.5 MB)\n",
      "   ---------------------------------------- 0.0/18.5 MB ? eta -:--:--\n",
      "    --------------------------------------- 0.3/18.5 MB ? eta -:--:--\n",
      "   -- ------------------------------------- 1.0/18.5 MB 3.0 MB/s eta 0:00:06\n",
      "   --- ------------------------------------ 1.6/18.5 MB 2.7 MB/s eta 0:00:07\n",
      "   --- ------------------------------------ 1.8/18.5 MB 2.7 MB/s eta 0:00:07\n",
      "   ----- ---------------------------------- 2.6/18.5 MB 2.6 MB/s eta 0:00:07\n",
      "   ------- -------------------------------- 3.4/18.5 MB 2.7 MB/s eta 0:00:06\n",
      "   --------- ------------------------------ 4.2/18.5 MB 2.8 MB/s eta 0:00:06\n",
      "   --------- ------------------------------ 4.5/18.5 MB 2.7 MB/s eta 0:00:06\n",
      "   ---------- ----------------------------- 5.0/18.5 MB 2.7 MB/s eta 0:00:05\n",
      "   ------------ --------------------------- 5.8/18.5 MB 2.8 MB/s eta 0:00:05\n",
      "   -------------- ------------------------- 6.6/18.5 MB 2.8 MB/s eta 0:00:05\n",
      "   --------------- ------------------------ 7.3/18.5 MB 2.9 MB/s eta 0:00:04\n",
      "   ----------------- ---------------------- 8.1/18.5 MB 3.0 MB/s eta 0:00:04\n",
      "   ------------------- -------------------- 8.9/18.5 MB 3.0 MB/s eta 0:00:04\n",
      "   -------------------- ------------------- 9.4/18.5 MB 3.0 MB/s eta 0:00:03\n",
      "   ---------------------- ----------------- 10.5/18.5 MB 3.1 MB/s eta 0:00:03\n",
      "   ----------------------- ---------------- 11.0/18.5 MB 3.1 MB/s eta 0:00:03\n",
      "   ------------------------- -------------- 11.8/18.5 MB 3.1 MB/s eta 0:00:03\n",
      "   --------------------------- ------------ 12.6/18.5 MB 3.1 MB/s eta 0:00:02\n",
      "   ---------------------------- ----------- 13.1/18.5 MB 3.1 MB/s eta 0:00:02\n",
      "   ------------------------------ --------- 13.9/18.5 MB 3.1 MB/s eta 0:00:02\n",
      "   -------------------------------- ------- 14.9/18.5 MB 3.2 MB/s eta 0:00:02\n",
      "   --------------------------------- ------ 15.7/18.5 MB 3.2 MB/s eta 0:00:01\n",
      "   ------------------------------------ --- 16.8/18.5 MB 3.3 MB/s eta 0:00:01\n",
      "   ------------------------------------- -- 17.6/18.5 MB 3.3 MB/s eta 0:00:01\n",
      "   ---------------------------------------  18.4/18.5 MB 3.3 MB/s eta 0:00:01\n",
      "   ---------------------------------------- 18.5/18.5 MB 3.3 MB/s eta 0:00:00\n",
      "Installing collected packages: PyMuPDF\n",
      "Successfully installed PyMuPDF-1.26.1\n"
     ]
    }
   ],
   "source": [
    "!pip install PyMuPDF fitz"
   ]
  },
  {
   "cell_type": "code",
   "execution_count": 9,
   "id": "84de634f",
   "metadata": {},
   "outputs": [
    {
     "name": "stdout",
     "output_type": "stream",
     "text": [
      "Extracted 128 pages.\n"
     ]
    }
   ],
   "source": [
    "import fitz\n",
    "\n",
    "def extract_text_by_page(pdf_path):\n",
    "    doc = fitz.open(pdf_path)\n",
    "    pages = []\n",
    "    for i, page in enumerate(doc):\n",
    "        text = page.get_text()\n",
    "        pages.append({\n",
    "            'page_num': i + 1,\n",
    "            'text': text.strip()\n",
    "        })\n",
    "    return pages\n",
    "\n",
    "pdf_path = \"../demo.pdf\"\n",
    "\n",
    "# Extract text\n",
    "pages = extract_text_by_page(pdf_path)\n",
    "print(f\"Extracted {len(pages)} pages.\")"
   ]
  },
  {
   "cell_type": "code",
   "execution_count": 10,
   "id": "fbfe3336",
   "metadata": {},
   "outputs": [
    {
     "name": "stdout",
     "output_type": "stream",
     "text": [
      "Saved extracted pages\n"
     ]
    }
   ],
   "source": [
    "import json\n",
    "\n",
    "with open(\"extracted_pages.json\", \"w\") as f:\n",
    "    json.dump(pages, f)\n",
    "\n",
    "print(\"Saved extracted pages\")"
   ]
  }
 ],
 "metadata": {
  "kernelspec": {
   "display_name": ".venv",
   "language": "python",
   "name": "python3"
  },
  "language_info": {
   "codemirror_mode": {
    "name": "ipython",
    "version": 3
   },
   "file_extension": ".py",
   "mimetype": "text/x-python",
   "name": "python",
   "nbconvert_exporter": "python",
   "pygments_lexer": "ipython3",
   "version": "3.13.3"
  }
 },
 "nbformat": 4,
 "nbformat_minor": 5
}
