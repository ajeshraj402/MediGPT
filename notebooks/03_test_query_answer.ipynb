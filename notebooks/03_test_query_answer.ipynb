{
 "cells": [
  {
   "cell_type": "code",
   "execution_count": null,
   "id": "50f83310",
   "metadata": {},
   "outputs": [
    {
     "name": "stdout",
     "output_type": "stream",
     "text": [
      "Requirement already satisfied: transformers in c:\\ajesh_drive\\personalprojects\\rag-medical-chatbot\\.venv\\lib\\site-packages (4.52.4)\n",
      "Requirement already satisfied: accelerate in c:\\ajesh_drive\\personalprojects\\rag-medical-chatbot\\.venv\\lib\\site-packages (1.7.0)\n"
     ]
    },
    {
     "name": "stderr",
     "output_type": "stream",
     "text": [
      "ERROR: Could not find a version that satisfies the requirement faiss (from versions: none)\n",
      "ERROR: No matching distribution found for faiss\n"
     ]
    }
   ],
   "source": [
    "!pip install transformers accelerate json faiss-cpu"
   ]
  },
  {
   "cell_type": "code",
   "execution_count": 18,
   "id": "14229260",
   "metadata": {},
   "outputs": [
    {
     "name": "stdout",
     "output_type": "stream",
     "text": [
      "Index contains 378 vectors.\n"
     ]
    }
   ],
   "source": [
    "import faiss\n",
    "import json\n",
    "\n",
    "index = faiss.read_index(\"vector_index.faiss\")\n",
    "\n",
    "with open(\"chunks_metadata.json\", \"r\") as f:\n",
    "    chunks = json.load(f)\n",
    "\n",
    "print(f\"Index contains {index.ntotal} vectors.\")"
   ]
  },
  {
   "cell_type": "code",
   "execution_count": 19,
   "id": "ba258e49",
   "metadata": {},
   "outputs": [],
   "source": [
    "from sentence_transformers import SentenceTransformer\n",
    "\n",
    "model_embed = SentenceTransformer(\"all-MiniLM-L6-v2\")"
   ]
  },
  {
   "cell_type": "code",
   "execution_count": 6,
   "id": "649cba5d",
   "metadata": {},
   "outputs": [
    {
     "name": "stderr",
     "output_type": "stream",
     "text": [
      "Xet Storage is enabled for this repo, but the 'hf_xet' package is not installed. Falling back to regular HTTP download. For better performance, install the package with: `pip install huggingface_hub[hf_xet]` or `pip install hf_xet`\n"
     ]
    }
   ],
   "source": [
    "from transformers import AutoTokenizer, AutoModelForSeq2SeqLM\n",
    "\n",
    "model_id = \"google/flan-t5-base\"\n",
    "\n",
    "tokenizer = AutoTokenizer.from_pretrained(model_id)\n",
    "model = AutoModelForSeq2SeqLM.from_pretrained(model_id)"
   ]
  },
  {
   "cell_type": "code",
   "execution_count": 20,
   "id": "d19d5fed",
   "metadata": {},
   "outputs": [],
   "source": [
    "def retrieve_top_k_chunks(question, k=5):\n",
    "    question_embedding = model_embed.encode([question], convert_to_numpy=True)\n",
    "    distances, indices = index.search(question_embedding, k)\n",
    "    top_chunks = [chunks[i] for i in indices[0]]\n",
    "    return top_chunks"
   ]
  },
  {
   "cell_type": "code",
   "execution_count": 21,
   "id": "5ccace4a",
   "metadata": {},
   "outputs": [],
   "source": [
    "from transformers import AutoTokenizer, AutoModelForSeq2SeqLM\n",
    "\n",
    "model_id = \"google/flan-t5-base\"\n",
    "tokenizer = AutoTokenizer.from_pretrained(model_id)\n",
    "model = AutoModelForSeq2SeqLM.from_pretrained(model_id)"
   ]
  },
  {
   "cell_type": "code",
   "execution_count": 22,
   "id": "ca534172",
   "metadata": {},
   "outputs": [
    {
     "name": "stderr",
     "output_type": "stream",
     "text": [
      "Device set to use cpu\n"
     ]
    }
   ],
   "source": [
    "from transformers import pipeline\n",
    "\n",
    "qa_pipeline = pipeline(\"text2text-generation\", model=model, tokenizer=tokenizer)"
   ]
  },
  {
   "cell_type": "code",
   "execution_count": 27,
   "id": "b392f6cc",
   "metadata": {},
   "outputs": [
    {
     "name": "stdout",
     "output_type": "stream",
     "text": [
      "Medicare doesn’t cover hearing aids or exams for fitting them.\n",
      " Source(s): Page 42, Page 51, Page 56\n"
     ]
    }
   ],
   "source": [
    "question = \"Does Medicare cover hearing aids?\"\n",
    "\n",
    "# Retrieve top chunks\n",
    "top_chunks = retrieve_top_k_chunks(question, k=3)\n",
    "\n",
    "# Build context from chunks\n",
    "context = \"\\n\\n\".join(\n",
    "    [f\"(Page {chunk['page_num']}): {chunk['chunk']}\" for chunk in top_chunks]\n",
    ")\n",
    "\n",
    "# Strong prompt instruction\n",
    "prompt = f\"\"\"You are a medical document assistant.\n",
    "\n",
    "Use the context below to answer the user's question. You must:\n",
    "- Answer ONLY using the context.\n",
    "- Clearly mention the relevant page numbers (e.g., \"As stated on Page 7...\").\n",
    "- Do NOT make up or guess anything.\n",
    "- Add a medical disclaimer: \"This is not medical advice.\"\n",
    "\n",
    "Context:\n",
    "{context}\n",
    "\n",
    "Question: {question}\n",
    "\n",
    "Answer:\"\"\"\n",
    "\n",
    "# Run the model\n",
    "result = qa_pipeline(prompt, max_new_tokens=150)[0]['generated_text']\n",
    "\n",
    "# Add fallback page numbers\n",
    "page_nums = set(chunk['page_num'] for chunk in top_chunks)\n",
    "page_refs = \", \".join(f\"Page {p}\" for p in sorted(page_nums))\n",
    "\n",
    "final_answer = f\"{result.strip()}\\n Source(s): {page_refs}\"\n",
    "print(final_answer)"
   ]
  }
 ],
 "metadata": {
  "kernelspec": {
   "display_name": ".venv",
   "language": "python",
   "name": "python3"
  },
  "language_info": {
   "codemirror_mode": {
    "name": "ipython",
    "version": 3
   },
   "file_extension": ".py",
   "mimetype": "text/x-python",
   "name": "python",
   "nbconvert_exporter": "python",
   "pygments_lexer": "ipython3",
   "version": "3.13.3"
  }
 },
 "nbformat": 4,
 "nbformat_minor": 5
}
